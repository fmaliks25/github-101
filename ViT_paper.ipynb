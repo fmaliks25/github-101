{
  "nbformat": 4,
  "nbformat_minor": 0,
  "metadata": {
    "colab": {
      "provenance": [],
      "authorship_tag": "ABX9TyMPzWnVp6wNkhyCmmo0TuCh",
      "include_colab_link": true
    },
    "kernelspec": {
      "name": "python3",
      "display_name": "Python 3"
    },
    "language_info": {
      "name": "python"
    }
  },
  "cells": [
    {
      "cell_type": "markdown",
      "metadata": {
        "id": "view-in-github",
        "colab_type": "text"
      },
      "source": [
        "<a href=\"https://colab.research.google.com/github/fmaliks25/github-101/blob/main/ViT_paper.ipynb\" target=\"_parent\"><img src=\"https://colab.research.google.com/assets/colab-badge.svg\" alt=\"Open In Colab\"/></a>"
      ]
    },
    {
      "cell_type": "markdown",
      "source": [
        "# 1. Setup and Data Preparation"
      ],
      "metadata": {
        "id": "5GbvA9egijc3"
      }
    },
    {
      "cell_type": "code",
      "source": [
        "import torch\n",
        "import torch.nn as nn\n",
        "import torch.optim as optim\n",
        "from torchvision import datasets, transforms\n",
        "from torch.utils.data import DataLoader\n"
      ],
      "metadata": {
        "id": "gH9XEQxSVbhi"
      },
      "execution_count": 2,
      "outputs": []
    },
    {
      "cell_type": "code",
      "source": [
        "transform = transforms.Compose([\n",
        "    transforms.Resize((224, 224)),\n",
        "    transforms.ToTensor(),\n",
        "    transforms.Normalize((0.5,), (0.5,))\n",
        "])\n"
      ],
      "metadata": {
        "id": "Djt3DsCiVinL"
      },
      "execution_count": 3,
      "outputs": []
    },
    {
      "cell_type": "code",
      "source": [
        "train_dataset = datasets.CIFAR10(root='data', train=True, transform=transform, download=True)\n",
        "test_dataset = datasets.CIFAR10(root='data', train=False, transform=transform, download=True)\n"
      ],
      "metadata": {
        "colab": {
          "base_uri": "https://localhost:8080/"
        },
        "id": "EV2E081UVnbK",
        "outputId": "ca4e3815-46bf-45a4-8d99-98e7890982d9"
      },
      "execution_count": 4,
      "outputs": [
        {
          "output_type": "stream",
          "name": "stdout",
          "text": [
            "Files already downloaded and verified\n",
            "Files already downloaded and verified\n"
          ]
        }
      ]
    },
    {
      "cell_type": "code",
      "source": [
        "train_loader = DataLoader(train_dataset, batch_size=32, shuffle=True)\n",
        "test_loader = DataLoader(test_dataset, batch_size=32, shuffle=False)\n"
      ],
      "metadata": {
        "id": "KbPN6gP0Vtzg"
      },
      "execution_count": 5,
      "outputs": []
    },
    {
      "cell_type": "markdown",
      "source": [
        "# 2. Define the Vision Transformer (ViT) Model\n",
        "Define the necessary components for the ViT model, including the patch embedding, transformer encoder, and the final classification head."
      ],
      "metadata": {
        "id": "xVbksbPvjAfR"
      }
    },
    {
      "cell_type": "code",
      "source": [
        "class PatchEmbedding(nn.Module):\n",
        "    def __init__(self, in_channels, patch_size, emb_size, img_size):\n",
        "        super(PatchEmbedding, self).__init__()\n",
        "        self.patch_size = patch_size\n",
        "        self.proj = nn.Conv2d(in_channels, emb_size, kernel_size=patch_size, stride=patch_size)\n",
        "        self.img_size = img_size\n",
        "\n",
        "    def forward(self, x):\n",
        "        x = self.proj(x)  # (batch_size, emb_size, num_patches, num_patches)\n",
        "        x = x.flatten(2)  # (batch_size, emb_size, num_patches*num_patches)\n",
        "        x = x.transpose(1, 2)  # (batch_size, num_patches*num_patches, emb_size)\n",
        "        return x\n"
      ],
      "metadata": {
        "id": "u8Vt9AlvV2az"
      },
      "execution_count": 6,
      "outputs": []
    },
    {
      "cell_type": "code",
      "source": [
        "class ViT(nn.Module):\n",
        "    def __init__(self, img_size, patch_size, in_channels, emb_size, num_classes, num_layers, num_heads, mlp_dim):\n",
        "        super(ViT, self).__init__()\n",
        "        self.patch_embedding = PatchEmbedding(in_channels, patch_size, emb_size, img_size)\n",
        "        self.cls_token = nn.Parameter(torch.randn(1, 1, emb_size))\n",
        "        self.position_embedding = nn.Parameter(torch.randn((img_size // patch_size) ** 2 + 1, emb_size))\n",
        "\n",
        "        encoder_layer = nn.TransformerEncoderLayer(d_model=emb_size, nhead=num_heads, dim_feedforward=mlp_dim, batch_first=True)\n",
        "        self.transformer_encoder = nn.TransformerEncoder(encoder_layer, num_layers=num_layers)\n",
        "\n",
        "        self.mlp_head = nn.Sequential(\n",
        "            nn.LayerNorm(emb_size),\n",
        "            nn.Linear(emb_size, num_classes)\n",
        "        )\n",
        "\n",
        "    def forward(self, x):\n",
        "        batch_size = x.size(0)\n",
        "        x = self.patch_embedding(x)\n",
        "        cls_tokens = self.cls_token.expand(batch_size, -1, -1)\n",
        "        x = torch.cat((cls_tokens, x), dim=1)\n",
        "        x = x + self.position_embedding\n",
        "        x = self.transformer_encoder(x)\n",
        "        cls_token_final = x[:, 0]\n",
        "        x = self.mlp_head(cls_token_final)\n",
        "        return x\n"
      ],
      "metadata": {
        "id": "QFyIKKXOV5z2"
      },
      "execution_count": 7,
      "outputs": []
    },
    {
      "cell_type": "markdown",
      "source": [
        "# 3. Initialize and Train the Model\n",
        "Initialize the ViT model, define the loss function and optimizer, and set up the training loop.\n",
        "\n"
      ],
      "metadata": {
        "id": "LcHNigqxjIRe"
      }
    },
    {
      "cell_type": "code",
      "source": [
        "# Model parameters\n",
        "img_size = 224\n",
        "patch_size = 16\n",
        "in_channels = 3\n",
        "emb_size = 768\n",
        "num_classes = 10\n",
        "num_layers = 6\n",
        "num_heads = 8\n",
        "mlp_dim = 2048\n",
        "\n",
        "# Initialize the ViT model\n",
        "model = ViT(img_size, patch_size, in_channels, emb_size, num_classes, num_layers, num_heads, mlp_dim)\n",
        "device = torch.device('cuda' if torch.cuda.is_available() else 'cpu')\n",
        "model.to(device)\n",
        "\n",
        "# Loss and optimizer\n",
        "criterion = nn.CrossEntropyLoss()\n",
        "optimizer = optim.Adam(model.parameters(), lr=0.001)\n"
      ],
      "metadata": {
        "id": "aFQ5LUzhV-1F"
      },
      "execution_count": 8,
      "outputs": []
    },
    {
      "cell_type": "markdown",
      "source": [
        "# 4. Evaluate the Model\n",
        "After training, evaluate the model's performance on the test set."
      ],
      "metadata": {
        "id": "QGevOkd-jHwY"
      }
    },
    {
      "cell_type": "code",
      "source": [
        "num_epochs = 1\n",
        "for epoch in range(num_epochs):\n",
        "    model.train()\n",
        "    running_loss = 0.0\n",
        "    for images, labels in train_loader:\n",
        "        images, labels = images.to(device), labels.to(device)\n",
        "        optimizer.zero_grad()\n",
        "        outputs = model(images)\n",
        "        loss = criterion(outputs, labels)\n",
        "        loss.backward()\n",
        "        optimizer.step()\n",
        "        running_loss += loss.item()\n",
        "\n",
        "    print(f\"Epoch [{epoch+1}/{num_epochs}], Loss: {running_loss/len(train_loader):.4f}\")\n",
        "\n",
        "print(\"Training complete!\")\n"
      ],
      "metadata": {
        "id": "74v2o2wTWDih"
      },
      "execution_count": null,
      "outputs": []
    }
  ]
}